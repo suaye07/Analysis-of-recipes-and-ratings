{
 "cells": [
  {
   "cell_type": "markdown",
   "metadata": {},
   "source": [
    "# Data Analysis on the food receipes and ratings\n",
    "\n",
    "**Name(s)**: Su Aye \n",
    "\n",
    "**Website Link**: https://suaye07.github.io/Analysis-of-recipes-and-ratings/"
   ]
  },
  {
   "cell_type": "markdown",
   "metadata": {},
   "source": [
    "# Analysis Question: What is the relationship between the cooking time and average rating of recipes?"
   ]
  },
  {
   "cell_type": "markdown",
   "metadata": {},
   "source": [
    "## Code"
   ]
  },
  {
   "cell_type": "code",
   "execution_count": 2,
   "metadata": {
    "ExecuteTime": {
     "end_time": "2019-10-31T23:36:28.652554Z",
     "start_time": "2019-10-31T23:36:27.180520Z"
    }
   },
   "outputs": [],
   "source": [
    "import pandas as pd\n",
    "import numpy as np\n",
    "import os\n",
    "import seaborn as sns\n",
    "import matplotlib.pyplot as plt\n",
    "import plotly.graph_objects as go\n",
    "import plotly.express as px\n",
    "pd.options.plotting.backend = 'plotly'\n",
    "from tabulate import tabulate\n",
    "import plotly.io as pio\n",
    "pio.renderers.default = 'iframe'"
   ]
  },
  {
   "cell_type": "markdown",
   "metadata": {},
   "source": [
    "### Cleaning and EDA"
   ]
  },
  {
   "cell_type": "code",
   "execution_count": 3,
   "metadata": {
    "ExecuteTime": {
     "end_time": "2019-10-31T23:36:28.657068Z",
     "start_time": "2019-10-31T23:36:28.654650Z"
    }
   },
   "outputs": [],
   "source": [
    "raw_interactions = pd.read_csv(\"RAW_interactions.csv\")\n",
    "raw_receipes = pd.read_csv(\"RAW_recipes.csv\")"
   ]
  },
  {
   "cell_type": "code",
   "execution_count": 4,
   "metadata": {},
   "outputs": [
    {
     "data": {
      "text/plain": [
       "(731927, 5)"
      ]
     },
     "execution_count": 4,
     "metadata": {},
     "output_type": "execute_result"
    }
   ],
   "source": [
    "raw_interactions.shape"
   ]
  },
  {
   "cell_type": "code",
   "execution_count": 5,
   "metadata": {},
   "outputs": [
    {
     "data": {
      "text/plain": [
       "(83782, 12)"
      ]
     },
     "execution_count": 5,
     "metadata": {},
     "output_type": "execute_result"
    }
   ],
   "source": [
    "raw_receipes.shape"
   ]
  },
  {
   "cell_type": "code",
   "execution_count": 6,
   "metadata": {},
   "outputs": [
    {
     "data": {
      "text/html": [
       "<div>\n",
       "<style scoped>\n",
       "    .dataframe tbody tr th:only-of-type {\n",
       "        vertical-align: middle;\n",
       "    }\n",
       "\n",
       "    .dataframe tbody tr th {\n",
       "        vertical-align: top;\n",
       "    }\n",
       "\n",
       "    .dataframe thead th {\n",
       "        text-align: right;\n",
       "    }\n",
       "</style>\n",
       "<table border=\"1\" class=\"dataframe\">\n",
       "  <thead>\n",
       "    <tr style=\"text-align: right;\">\n",
       "      <th></th>\n",
       "      <th>user_id</th>\n",
       "      <th>recipe_id</th>\n",
       "      <th>date</th>\n",
       "      <th>rating</th>\n",
       "      <th>review</th>\n",
       "      <th>name</th>\n",
       "      <th>minutes</th>\n",
       "      <th>contributor_id</th>\n",
       "      <th>submitted</th>\n",
       "      <th>tags</th>\n",
       "      <th>nutrition</th>\n",
       "      <th>n_steps</th>\n",
       "      <th>steps</th>\n",
       "      <th>description</th>\n",
       "      <th>ingredients</th>\n",
       "      <th>n_ingredients</th>\n",
       "    </tr>\n",
       "  </thead>\n",
       "  <tbody>\n",
       "    <tr>\n",
       "      <th>0</th>\n",
       "      <td>483827</td>\n",
       "      <td>306785</td>\n",
       "      <td>2008-07-15</td>\n",
       "      <td>5</td>\n",
       "      <td>Being a  huge fan of America's Test Kitchen  I...</td>\n",
       "      <td>spicy nectarine and corn salsa</td>\n",
       "      <td>40</td>\n",
       "      <td>377499</td>\n",
       "      <td>2008-06-02</td>\n",
       "      <td>['60-minutes-or-less', 'time-to-make', 'course...</td>\n",
       "      <td>[95.3, 1.0, 50.0, 16.0, 5.0, 0.0, 7.0]</td>\n",
       "      <td>4</td>\n",
       "      <td>['in a medium bowl , toss together nectarines ...</td>\n",
       "      <td>from my heros at america's test kitchen (cooks...</td>\n",
       "      <td>['nectarines', 'ear of corn', 'shallot', 'haba...</td>\n",
       "      <td>8</td>\n",
       "    </tr>\n",
       "    <tr>\n",
       "      <th>1</th>\n",
       "      <td>5060</td>\n",
       "      <td>310237</td>\n",
       "      <td>2010-05-07</td>\n",
       "      <td>5</td>\n",
       "      <td>wow red and white sweetness!  DH loved them , ...</td>\n",
       "      <td>french strawberry crepes</td>\n",
       "      <td>30</td>\n",
       "      <td>452576</td>\n",
       "      <td>2008-06-19</td>\n",
       "      <td>['30-minutes-or-less', 'time-to-make', 'course...</td>\n",
       "      <td>[143.5, 5.0, 25.0, 3.0, 10.0, 3.0, 7.0]</td>\n",
       "      <td>9</td>\n",
       "      <td>['for the filling: toss the strawberries and b...</td>\n",
       "      <td>yummy and sweet french-style strawberry breakf...</td>\n",
       "      <td>['strawberries', 'brown sugar', 'cool whip fre...</td>\n",
       "      <td>10</td>\n",
       "    </tr>\n",
       "    <tr>\n",
       "      <th>2</th>\n",
       "      <td>935485</td>\n",
       "      <td>321038</td>\n",
       "      <td>2009-06-22</td>\n",
       "      <td>5</td>\n",
       "      <td>Being a healthy bar this is very good.  I make...</td>\n",
       "      <td>hg s grab  n go breakfast cookies   weight wat...</td>\n",
       "      <td>22</td>\n",
       "      <td>346383</td>\n",
       "      <td>2008-08-24</td>\n",
       "      <td>['30-minutes-or-less', 'time-to-make', 'course...</td>\n",
       "      <td>[182.4, 2.0, 50.0, 7.0, 11.0, 1.0, 13.0]</td>\n",
       "      <td>14</td>\n",
       "      <td>['preheat oven to 375 degrees', 'chop raisins ...</td>\n",
       "      <td>i received a hungry girl email today and this ...</td>\n",
       "      <td>['oats', 'whole wheat flour', 'fiber one cerea...</td>\n",
       "      <td>14</td>\n",
       "    </tr>\n",
       "    <tr>\n",
       "      <th>3</th>\n",
       "      <td>539686</td>\n",
       "      <td>321038</td>\n",
       "      <td>2011-03-28</td>\n",
       "      <td>5</td>\n",
       "      <td>My very health conscious daughter and I triple...</td>\n",
       "      <td>hg s grab  n go breakfast cookies   weight wat...</td>\n",
       "      <td>22</td>\n",
       "      <td>346383</td>\n",
       "      <td>2008-08-24</td>\n",
       "      <td>['30-minutes-or-less', 'time-to-make', 'course...</td>\n",
       "      <td>[182.4, 2.0, 50.0, 7.0, 11.0, 1.0, 13.0]</td>\n",
       "      <td>14</td>\n",
       "      <td>['preheat oven to 375 degrees', 'chop raisins ...</td>\n",
       "      <td>i received a hungry girl email today and this ...</td>\n",
       "      <td>['oats', 'whole wheat flour', 'fiber one cerea...</td>\n",
       "      <td>14</td>\n",
       "    </tr>\n",
       "    <tr>\n",
       "      <th>4</th>\n",
       "      <td>22174</td>\n",
       "      <td>342209</td>\n",
       "      <td>2008-12-28</td>\n",
       "      <td>4</td>\n",
       "      <td>I am changing my initial review because they g...</td>\n",
       "      <td>banana oatmeal cookies</td>\n",
       "      <td>40</td>\n",
       "      <td>361931</td>\n",
       "      <td>2008-12-08</td>\n",
       "      <td>['60-minutes-or-less', 'time-to-make', 'course...</td>\n",
       "      <td>[658.2, 45.0, 151.0, 35.0, 24.0, 72.0, 29.0]</td>\n",
       "      <td>7</td>\n",
       "      <td>['sift flour , soda , baking powder and salt t...</td>\n",
       "      <td>a twist on an old favorite</td>\n",
       "      <td>['sugar', 'butter', 'eggs', 'mashed banana', '...</td>\n",
       "      <td>12</td>\n",
       "    </tr>\n",
       "    <tr>\n",
       "      <th>...</th>\n",
       "      <td>...</td>\n",
       "      <td>...</td>\n",
       "      <td>...</td>\n",
       "      <td>...</td>\n",
       "      <td>...</td>\n",
       "      <td>...</td>\n",
       "      <td>...</td>\n",
       "      <td>...</td>\n",
       "      <td>...</td>\n",
       "      <td>...</td>\n",
       "      <td>...</td>\n",
       "      <td>...</td>\n",
       "      <td>...</td>\n",
       "      <td>...</td>\n",
       "      <td>...</td>\n",
       "      <td>...</td>\n",
       "    </tr>\n",
       "    <tr>\n",
       "      <th>234423</th>\n",
       "      <td>1963163</td>\n",
       "      <td>451490</td>\n",
       "      <td>2015-05-23</td>\n",
       "      <td>5</td>\n",
       "      <td>Just made this for the first time today. This ...</td>\n",
       "      <td>pulled barbecued beef sandwiches</td>\n",
       "      <td>330</td>\n",
       "      <td>1502639</td>\n",
       "      <td>2011-03-24</td>\n",
       "      <td>['weeknight', 'course', 'main-ingredient', 'pr...</td>\n",
       "      <td>[351.1, 15.0, 37.0, 37.0, 57.0, 17.0, 11.0]</td>\n",
       "      <td>11</td>\n",
       "      <td>['trim fat from meat and cut to fit in a 3-1 /...</td>\n",
       "      <td>\"pulled\" this recipe off of yahoo shine and my...</td>\n",
       "      <td>['beef brisket', 'ro-tel tomatoes', 'applesauc...</td>\n",
       "      <td>8</td>\n",
       "    </tr>\n",
       "    <tr>\n",
       "      <th>234424</th>\n",
       "      <td>169430</td>\n",
       "      <td>492861</td>\n",
       "      <td>2013-01-09</td>\n",
       "      <td>5</td>\n",
       "      <td>I have made this for the second (and this time...</td>\n",
       "      <td>omani coffee</td>\n",
       "      <td>13</td>\n",
       "      <td>37449</td>\n",
       "      <td>2013-01-03</td>\n",
       "      <td>['15-minutes-or-less', 'time-to-make', 'course...</td>\n",
       "      <td>[16.3, 0.0, 0.0, 0.0, 0.0, 0.0, 1.0]</td>\n",
       "      <td>13</td>\n",
       "      <td>['preparing the beans: roast the ground beans ...</td>\n",
       "      <td>the omani people are well known for their hosp...</td>\n",
       "      <td>['water', 'coffee', 'ground cardamom', 'whole ...</td>\n",
       "      <td>4</td>\n",
       "    </tr>\n",
       "    <tr>\n",
       "      <th>234425</th>\n",
       "      <td>128473</td>\n",
       "      <td>492861</td>\n",
       "      <td>2013-02-08</td>\n",
       "      <td>5</td>\n",
       "      <td>I love coffee and I adore cardamom.  This was ...</td>\n",
       "      <td>omani coffee</td>\n",
       "      <td>13</td>\n",
       "      <td>37449</td>\n",
       "      <td>2013-01-03</td>\n",
       "      <td>['15-minutes-or-less', 'time-to-make', 'course...</td>\n",
       "      <td>[16.3, 0.0, 0.0, 0.0, 0.0, 0.0, 1.0]</td>\n",
       "      <td>13</td>\n",
       "      <td>['preparing the beans: roast the ground beans ...</td>\n",
       "      <td>the omani people are well known for their hosp...</td>\n",
       "      <td>['water', 'coffee', 'ground cardamom', 'whole ...</td>\n",
       "      <td>4</td>\n",
       "    </tr>\n",
       "    <tr>\n",
       "      <th>234426</th>\n",
       "      <td>169430</td>\n",
       "      <td>470995</td>\n",
       "      <td>2013-04-17</td>\n",
       "      <td>5</td>\n",
       "      <td>Just as the title promised this is a lovely sh...</td>\n",
       "      <td>perfectly fried shrimps with garlic</td>\n",
       "      <td>8</td>\n",
       "      <td>2124513</td>\n",
       "      <td>2011-12-31</td>\n",
       "      <td>['15-minutes-or-less', 'time-to-make', 'course...</td>\n",
       "      <td>[397.0, 62.0, 0.0, 8.0, 10.0, 28.0, 1.0]</td>\n",
       "      <td>25</td>\n",
       "      <td>['preparation', 'rinse the shrimps with cold w...</td>\n",
       "      <td>succulent shrimps fried in olive oil with cara...</td>\n",
       "      <td>['shrimp', 'garlic cloves', 'olive oil']</td>\n",
       "      <td>3</td>\n",
       "    </tr>\n",
       "    <tr>\n",
       "      <th>234427</th>\n",
       "      <td>583662</td>\n",
       "      <td>386618</td>\n",
       "      <td>2009-09-29</td>\n",
       "      <td>5</td>\n",
       "      <td>These were so delicious!  My husband and I tru...</td>\n",
       "      <td>stacey e s yummy veggie burgers</td>\n",
       "      <td>21</td>\n",
       "      <td>742029</td>\n",
       "      <td>2009-08-24</td>\n",
       "      <td>['30-minutes-or-less', 'time-to-make', 'course...</td>\n",
       "      <td>[124.7, 1.0, 11.0, 24.0, 10.0, 0.0, 8.0]</td>\n",
       "      <td>9</td>\n",
       "      <td>['microwave carrot slices in 1 / 4 inch water ...</td>\n",
       "      <td>my friend stacey significantly modified a reci...</td>\n",
       "      <td>['carrot', 'garbanzo beans', 'salsa', 'corn fl...</td>\n",
       "      <td>8</td>\n",
       "    </tr>\n",
       "  </tbody>\n",
       "</table>\n",
       "<p>234428 rows × 16 columns</p>\n",
       "</div>"
      ],
      "text/plain": [
       "        user_id  recipe_id        date  rating  \\\n",
       "0        483827     306785  2008-07-15       5   \n",
       "1          5060     310237  2010-05-07       5   \n",
       "2        935485     321038  2009-06-22       5   \n",
       "3        539686     321038  2011-03-28       5   \n",
       "4         22174     342209  2008-12-28       4   \n",
       "...         ...        ...         ...     ...   \n",
       "234423  1963163     451490  2015-05-23       5   \n",
       "234424   169430     492861  2013-01-09       5   \n",
       "234425   128473     492861  2013-02-08       5   \n",
       "234426   169430     470995  2013-04-17       5   \n",
       "234427   583662     386618  2009-09-29       5   \n",
       "\n",
       "                                                   review  \\\n",
       "0       Being a  huge fan of America's Test Kitchen  I...   \n",
       "1       wow red and white sweetness!  DH loved them , ...   \n",
       "2       Being a healthy bar this is very good.  I make...   \n",
       "3       My very health conscious daughter and I triple...   \n",
       "4       I am changing my initial review because they g...   \n",
       "...                                                   ...   \n",
       "234423  Just made this for the first time today. This ...   \n",
       "234424  I have made this for the second (and this time...   \n",
       "234425  I love coffee and I adore cardamom.  This was ...   \n",
       "234426  Just as the title promised this is a lovely sh...   \n",
       "234427  These were so delicious!  My husband and I tru...   \n",
       "\n",
       "                                                     name  minutes  \\\n",
       "0                          spicy nectarine and corn salsa       40   \n",
       "1                                french strawberry crepes       30   \n",
       "2       hg s grab  n go breakfast cookies   weight wat...       22   \n",
       "3       hg s grab  n go breakfast cookies   weight wat...       22   \n",
       "4                                  banana oatmeal cookies       40   \n",
       "...                                                   ...      ...   \n",
       "234423                   pulled barbecued beef sandwiches      330   \n",
       "234424                                       omani coffee       13   \n",
       "234425                                       omani coffee       13   \n",
       "234426                perfectly fried shrimps with garlic        8   \n",
       "234427                    stacey e s yummy veggie burgers       21   \n",
       "\n",
       "        contributor_id   submitted  \\\n",
       "0               377499  2008-06-02   \n",
       "1               452576  2008-06-19   \n",
       "2               346383  2008-08-24   \n",
       "3               346383  2008-08-24   \n",
       "4               361931  2008-12-08   \n",
       "...                ...         ...   \n",
       "234423         1502639  2011-03-24   \n",
       "234424           37449  2013-01-03   \n",
       "234425           37449  2013-01-03   \n",
       "234426         2124513  2011-12-31   \n",
       "234427          742029  2009-08-24   \n",
       "\n",
       "                                                     tags  \\\n",
       "0       ['60-minutes-or-less', 'time-to-make', 'course...   \n",
       "1       ['30-minutes-or-less', 'time-to-make', 'course...   \n",
       "2       ['30-minutes-or-less', 'time-to-make', 'course...   \n",
       "3       ['30-minutes-or-less', 'time-to-make', 'course...   \n",
       "4       ['60-minutes-or-less', 'time-to-make', 'course...   \n",
       "...                                                   ...   \n",
       "234423  ['weeknight', 'course', 'main-ingredient', 'pr...   \n",
       "234424  ['15-minutes-or-less', 'time-to-make', 'course...   \n",
       "234425  ['15-minutes-or-less', 'time-to-make', 'course...   \n",
       "234426  ['15-minutes-or-less', 'time-to-make', 'course...   \n",
       "234427  ['30-minutes-or-less', 'time-to-make', 'course...   \n",
       "\n",
       "                                           nutrition  n_steps  \\\n",
       "0             [95.3, 1.0, 50.0, 16.0, 5.0, 0.0, 7.0]        4   \n",
       "1            [143.5, 5.0, 25.0, 3.0, 10.0, 3.0, 7.0]        9   \n",
       "2           [182.4, 2.0, 50.0, 7.0, 11.0, 1.0, 13.0]       14   \n",
       "3           [182.4, 2.0, 50.0, 7.0, 11.0, 1.0, 13.0]       14   \n",
       "4       [658.2, 45.0, 151.0, 35.0, 24.0, 72.0, 29.0]        7   \n",
       "...                                              ...      ...   \n",
       "234423   [351.1, 15.0, 37.0, 37.0, 57.0, 17.0, 11.0]       11   \n",
       "234424          [16.3, 0.0, 0.0, 0.0, 0.0, 0.0, 1.0]       13   \n",
       "234425          [16.3, 0.0, 0.0, 0.0, 0.0, 0.0, 1.0]       13   \n",
       "234426      [397.0, 62.0, 0.0, 8.0, 10.0, 28.0, 1.0]       25   \n",
       "234427      [124.7, 1.0, 11.0, 24.0, 10.0, 0.0, 8.0]        9   \n",
       "\n",
       "                                                    steps  \\\n",
       "0       ['in a medium bowl , toss together nectarines ...   \n",
       "1       ['for the filling: toss the strawberries and b...   \n",
       "2       ['preheat oven to 375 degrees', 'chop raisins ...   \n",
       "3       ['preheat oven to 375 degrees', 'chop raisins ...   \n",
       "4       ['sift flour , soda , baking powder and salt t...   \n",
       "...                                                   ...   \n",
       "234423  ['trim fat from meat and cut to fit in a 3-1 /...   \n",
       "234424  ['preparing the beans: roast the ground beans ...   \n",
       "234425  ['preparing the beans: roast the ground beans ...   \n",
       "234426  ['preparation', 'rinse the shrimps with cold w...   \n",
       "234427  ['microwave carrot slices in 1 / 4 inch water ...   \n",
       "\n",
       "                                              description  \\\n",
       "0       from my heros at america's test kitchen (cooks...   \n",
       "1       yummy and sweet french-style strawberry breakf...   \n",
       "2       i received a hungry girl email today and this ...   \n",
       "3       i received a hungry girl email today and this ...   \n",
       "4                              a twist on an old favorite   \n",
       "...                                                   ...   \n",
       "234423  \"pulled\" this recipe off of yahoo shine and my...   \n",
       "234424  the omani people are well known for their hosp...   \n",
       "234425  the omani people are well known for their hosp...   \n",
       "234426  succulent shrimps fried in olive oil with cara...   \n",
       "234427  my friend stacey significantly modified a reci...   \n",
       "\n",
       "                                              ingredients  n_ingredients  \n",
       "0       ['nectarines', 'ear of corn', 'shallot', 'haba...              8  \n",
       "1       ['strawberries', 'brown sugar', 'cool whip fre...             10  \n",
       "2       ['oats', 'whole wheat flour', 'fiber one cerea...             14  \n",
       "3       ['oats', 'whole wheat flour', 'fiber one cerea...             14  \n",
       "4       ['sugar', 'butter', 'eggs', 'mashed banana', '...             12  \n",
       "...                                                   ...            ...  \n",
       "234423  ['beef brisket', 'ro-tel tomatoes', 'applesauc...              8  \n",
       "234424  ['water', 'coffee', 'ground cardamom', 'whole ...              4  \n",
       "234425  ['water', 'coffee', 'ground cardamom', 'whole ...              4  \n",
       "234426           ['shrimp', 'garlic cloves', 'olive oil']              3  \n",
       "234427  ['carrot', 'garbanzo beans', 'salsa', 'corn fl...              8  \n",
       "\n",
       "[234428 rows x 16 columns]"
      ]
     },
     "execution_count": 6,
     "metadata": {},
     "output_type": "execute_result"
    }
   ],
   "source": [
    "#combine two datasets raw_interactions and raw_receipes \n",
    "combined = pd.merge(raw_interactions, raw_receipes, left_on=\"recipe_id\", right_on=\"id\").drop('id', axis=1)\n",
    "combined['rating'] = combined['rating'].apply(lambda x: np.nan if x == \"0\" else x)\n",
    "combined"
   ]
  },
  {
   "cell_type": "code",
   "execution_count": 7,
   "metadata": {},
   "outputs": [
    {
     "data": {
      "text/plain": [
       "recipe_id  name                                      \n",
       "275022     impossible macaroni and cheese pie            3.0\n",
       "275024     impossible rhubarb pie                        3.0\n",
       "275026     impossible seafood pie                        3.0\n",
       "275030     paula deen s caramel apple cheesecake         5.0\n",
       "275032     midori poached pears                          5.0\n",
       "                                                        ... \n",
       "537459     bailey s chocotini                            5.0\n",
       "537485     5 ingredient salted caramel crumble bars      5.0\n",
       "537543     moist gingerbread cake                        0.0\n",
       "537671     nutcracker peppermint red velvet cake pops    0.0\n",
       "537716     mini buffalo chicken cheesesteaks             5.0\n",
       "Name: rating, Length: 83780, dtype: float64"
      ]
     },
     "execution_count": 7,
     "metadata": {},
     "output_type": "execute_result"
    }
   ],
   "source": [
    "combined_cleaned = combined.dropna(subset=['rating'])\n",
    "average_rating_per_recipe = combined_cleaned.groupby(['recipe_id', 'name'])['rating'].mean()\n",
    "average_rating_per_recipe"
   ]
  },
  {
   "cell_type": "code",
   "execution_count": 8,
   "metadata": {},
   "outputs": [
    {
     "data": {
      "text/plain": [
       "recipe_id  name                                      \n",
       "275022     impossible macaroni and cheese pie             50.0\n",
       "275024     impossible rhubarb pie                         55.0\n",
       "275026     impossible seafood pie                         45.0\n",
       "275030     paula deen s caramel apple cheesecake          45.0\n",
       "275032     midori poached pears                           25.0\n",
       "                                                         ...  \n",
       "537459     bailey s chocotini                             10.0\n",
       "537485     5 ingredient salted caramel crumble bars       45.0\n",
       "537543     moist gingerbread cake                         55.0\n",
       "537671     nutcracker peppermint red velvet cake pops    135.0\n",
       "537716     mini buffalo chicken cheesesteaks              40.0\n",
       "Name: minutes, Length: 83780, dtype: float64"
      ]
     },
     "execution_count": 8,
     "metadata": {},
     "output_type": "execute_result"
    }
   ],
   "source": [
    "combined_cleaned = combined.dropna(subset=['minutes'])\n",
    "average_minutes_per_recipe = combined_cleaned.groupby(['recipe_id', 'name'])['minutes'].mean()\n",
    "average_minutes_per_recipe"
   ]
  },
  {
   "cell_type": "code",
   "execution_count": 9,
   "metadata": {},
   "outputs": [
    {
     "data": {
      "text/plain": [
       "67267"
      ]
     },
     "execution_count": 9,
     "metadata": {},
     "output_type": "execute_result"
    }
   ],
   "source": [
    "merged_data = pd.merge(combined, average_rating_per_recipe, left_on=\"recipe_id\", right_on=\"recipe_id\")\n",
    "merged_data = merged_data.drop('rating_x', axis=1)\n",
    "merged_data = merged_data.rename(columns={'rating_y': 'mean_rating'})\n",
    "merged_data = merged_data['user_id'].unique()\n",
    "len(merged_data)"
   ]
  },
  {
   "cell_type": "markdown",
   "metadata": {},
   "source": [
    "# Univariate Analysis"
   ]
  },
  {
   "cell_type": "code",
   "execution_count": 10,
   "metadata": {},
   "outputs": [
    {
     "data": {
      "text/html": [
       "<div>\n",
       "<style scoped>\n",
       "    .dataframe tbody tr th:only-of-type {\n",
       "        vertical-align: middle;\n",
       "    }\n",
       "\n",
       "    .dataframe tbody tr th {\n",
       "        vertical-align: top;\n",
       "    }\n",
       "\n",
       "    .dataframe thead th {\n",
       "        text-align: right;\n",
       "    }\n",
       "</style>\n",
       "<table border=\"1\" class=\"dataframe\">\n",
       "  <thead>\n",
       "    <tr style=\"text-align: right;\">\n",
       "      <th></th>\n",
       "      <th>rating</th>\n",
       "    </tr>\n",
       "    <tr>\n",
       "      <th>n_ingredients</th>\n",
       "      <th></th>\n",
       "    </tr>\n",
       "  </thead>\n",
       "  <tbody>\n",
       "    <tr>\n",
       "      <th>1</th>\n",
       "      <td>4.302083</td>\n",
       "    </tr>\n",
       "    <tr>\n",
       "      <th>2</th>\n",
       "      <td>4.328767</td>\n",
       "    </tr>\n",
       "    <tr>\n",
       "      <th>3</th>\n",
       "      <td>4.441945</td>\n",
       "    </tr>\n",
       "    <tr>\n",
       "      <th>4</th>\n",
       "      <td>4.435266</td>\n",
       "    </tr>\n",
       "    <tr>\n",
       "      <th>5</th>\n",
       "      <td>4.398439</td>\n",
       "    </tr>\n",
       "    <tr>\n",
       "      <th>6</th>\n",
       "      <td>4.389068</td>\n",
       "    </tr>\n",
       "    <tr>\n",
       "      <th>7</th>\n",
       "      <td>4.371794</td>\n",
       "    </tr>\n",
       "    <tr>\n",
       "      <th>8</th>\n",
       "      <td>4.381403</td>\n",
       "    </tr>\n",
       "    <tr>\n",
       "      <th>9</th>\n",
       "      <td>4.376274</td>\n",
       "    </tr>\n",
       "    <tr>\n",
       "      <th>10</th>\n",
       "      <td>4.352366</td>\n",
       "    </tr>\n",
       "    <tr>\n",
       "      <th>11</th>\n",
       "      <td>4.389051</td>\n",
       "    </tr>\n",
       "    <tr>\n",
       "      <th>12</th>\n",
       "      <td>4.387099</td>\n",
       "    </tr>\n",
       "    <tr>\n",
       "      <th>13</th>\n",
       "      <td>4.367495</td>\n",
       "    </tr>\n",
       "    <tr>\n",
       "      <th>14</th>\n",
       "      <td>4.351277</td>\n",
       "    </tr>\n",
       "    <tr>\n",
       "      <th>15</th>\n",
       "      <td>4.354733</td>\n",
       "    </tr>\n",
       "    <tr>\n",
       "      <th>16</th>\n",
       "      <td>4.335655</td>\n",
       "    </tr>\n",
       "    <tr>\n",
       "      <th>17</th>\n",
       "      <td>4.298502</td>\n",
       "    </tr>\n",
       "    <tr>\n",
       "      <th>18</th>\n",
       "      <td>4.370633</td>\n",
       "    </tr>\n",
       "    <tr>\n",
       "      <th>19</th>\n",
       "      <td>4.363487</td>\n",
       "    </tr>\n",
       "    <tr>\n",
       "      <th>20</th>\n",
       "      <td>4.292498</td>\n",
       "    </tr>\n",
       "    <tr>\n",
       "      <th>21</th>\n",
       "      <td>4.252220</td>\n",
       "    </tr>\n",
       "    <tr>\n",
       "      <th>22</th>\n",
       "      <td>4.620355</td>\n",
       "    </tr>\n",
       "    <tr>\n",
       "      <th>23</th>\n",
       "      <td>4.313099</td>\n",
       "    </tr>\n",
       "    <tr>\n",
       "      <th>24</th>\n",
       "      <td>4.397727</td>\n",
       "    </tr>\n",
       "    <tr>\n",
       "      <th>25</th>\n",
       "      <td>4.033333</td>\n",
       "    </tr>\n",
       "    <tr>\n",
       "      <th>26</th>\n",
       "      <td>4.490000</td>\n",
       "    </tr>\n",
       "    <tr>\n",
       "      <th>27</th>\n",
       "      <td>4.155556</td>\n",
       "    </tr>\n",
       "    <tr>\n",
       "      <th>28</th>\n",
       "      <td>4.279070</td>\n",
       "    </tr>\n",
       "    <tr>\n",
       "      <th>29</th>\n",
       "      <td>4.451613</td>\n",
       "    </tr>\n",
       "    <tr>\n",
       "      <th>30</th>\n",
       "      <td>4.636364</td>\n",
       "    </tr>\n",
       "    <tr>\n",
       "      <th>31</th>\n",
       "      <td>5.000000</td>\n",
       "    </tr>\n",
       "    <tr>\n",
       "      <th>32</th>\n",
       "      <td>5.000000</td>\n",
       "    </tr>\n",
       "    <tr>\n",
       "      <th>33</th>\n",
       "      <td>5.000000</td>\n",
       "    </tr>\n",
       "    <tr>\n",
       "      <th>37</th>\n",
       "      <td>5.000000</td>\n",
       "    </tr>\n",
       "  </tbody>\n",
       "</table>\n",
       "</div>"
      ],
      "text/plain": [
       "                 rating\n",
       "n_ingredients          \n",
       "1              4.302083\n",
       "2              4.328767\n",
       "3              4.441945\n",
       "4              4.435266\n",
       "5              4.398439\n",
       "6              4.389068\n",
       "7              4.371794\n",
       "8              4.381403\n",
       "9              4.376274\n",
       "10             4.352366\n",
       "11             4.389051\n",
       "12             4.387099\n",
       "13             4.367495\n",
       "14             4.351277\n",
       "15             4.354733\n",
       "16             4.335655\n",
       "17             4.298502\n",
       "18             4.370633\n",
       "19             4.363487\n",
       "20             4.292498\n",
       "21             4.252220\n",
       "22             4.620355\n",
       "23             4.313099\n",
       "24             4.397727\n",
       "25             4.033333\n",
       "26             4.490000\n",
       "27             4.155556\n",
       "28             4.279070\n",
       "29             4.451613\n",
       "30             4.636364\n",
       "31             5.000000\n",
       "32             5.000000\n",
       "33             5.000000\n",
       "37             5.000000"
      ]
     },
     "execution_count": 10,
     "metadata": {},
     "output_type": "execute_result"
    }
   ],
   "source": [
    "combined_cleaned = combined.dropna(subset=['rating'])\n",
    "average_rating_per_recipe = combined_cleaned.groupby(['n_ingredients'])['rating'].mean()\n",
    "df_average_rating = average_rating_per_recipe.reset_index().set_index(['n_ingredients'])\n",
    "df_average_rating_sorted = df_average_rating.sort_values('n_ingredients', ascending=True)\n",
    "df_average_rating_sorted"
   ]
  },
  {
   "cell_type": "code",
   "execution_count": 10,
   "metadata": {},
   "outputs": [
    {
     "data": {
      "text/html": [
       "<iframe\n",
       "    scrolling=\"no\"\n",
       "    width=\"100%\"\n",
       "    height=\"545px\"\n",
       "    src=\"iframe_figures/figure_10.html\"\n",
       "    frameborder=\"0\"\n",
       "    allowfullscreen\n",
       "></iframe>\n"
      ]
     },
     "metadata": {},
     "output_type": "display_data"
    }
   ],
   "source": [
    "# Creating the histogram\n",
    "fig = px.histogram(df_average_rating_sorted, x='rating', nbins=10)\n",
    "\n",
    "# Adding labels and title\n",
    "fig.update_layout(\n",
    "    xaxis_title='Average Rating',\n",
    "    yaxis_title='Frequency',\n",
    "    title='Distribution of Average Rating per Recipe'\n",
    ")\n",
    "\n",
    "# Displaying the histogram\n",
    "fig.show()\n",
    "fig.write_html('average_rating_histogram.html')"
   ]
  },
  {
   "cell_type": "code",
   "execution_count": 11,
   "metadata": {},
   "outputs": [
    {
     "data": {
      "text/html": [
       "<div>\n",
       "<style scoped>\n",
       "    .dataframe tbody tr th:only-of-type {\n",
       "        vertical-align: middle;\n",
       "    }\n",
       "\n",
       "    .dataframe tbody tr th {\n",
       "        vertical-align: top;\n",
       "    }\n",
       "\n",
       "    .dataframe thead th {\n",
       "        text-align: right;\n",
       "    }\n",
       "</style>\n",
       "<table border=\"1\" class=\"dataframe\">\n",
       "  <thead>\n",
       "    <tr style=\"text-align: right;\">\n",
       "      <th></th>\n",
       "      <th>recipe_count</th>\n",
       "    </tr>\n",
       "    <tr>\n",
       "      <th>rating</th>\n",
       "      <th></th>\n",
       "    </tr>\n",
       "  </thead>\n",
       "  <tbody>\n",
       "    <tr>\n",
       "      <th>0</th>\n",
       "      <td>15035</td>\n",
       "    </tr>\n",
       "    <tr>\n",
       "      <th>1</th>\n",
       "      <td>2870</td>\n",
       "    </tr>\n",
       "    <tr>\n",
       "      <th>2</th>\n",
       "      <td>2368</td>\n",
       "    </tr>\n",
       "    <tr>\n",
       "      <th>3</th>\n",
       "      <td>7172</td>\n",
       "    </tr>\n",
       "    <tr>\n",
       "      <th>4</th>\n",
       "      <td>37307</td>\n",
       "    </tr>\n",
       "    <tr>\n",
       "      <th>5</th>\n",
       "      <td>169676</td>\n",
       "    </tr>\n",
       "  </tbody>\n",
       "</table>\n",
       "</div>"
      ],
      "text/plain": [
       "        recipe_count\n",
       "rating              \n",
       "0              15035\n",
       "1               2870\n",
       "2               2368\n",
       "3               7172\n",
       "4              37307\n",
       "5             169676"
      ]
     },
     "execution_count": 11,
     "metadata": {},
     "output_type": "execute_result"
    }
   ],
   "source": [
    "combined_cleaned = combined.dropna(subset=['rating'])\n",
    "average_rating_per_recipe = combined_cleaned.groupby('rating')['recipe_id'].count()\n",
    "df_average_rating = average_rating_per_recipe.reset_index()\n",
    "df_average_rating = df_average_rating.set_index('rating')\n",
    "df_average_rating.columns = ['recipe_count']\n",
    "df_average_rating"
   ]
  },
  {
   "cell_type": "code",
   "execution_count": 12,
   "metadata": {},
   "outputs": [
    {
     "data": {
      "text/html": [
       "<iframe\n",
       "    scrolling=\"no\"\n",
       "    width=\"620px\"\n",
       "    height=\"420\"\n",
       "    src=\"iframe_figures/figure_12.html\"\n",
       "    frameborder=\"0\"\n",
       "    allowfullscreen\n",
       "></iframe>\n"
      ]
     },
     "metadata": {},
     "output_type": "display_data"
    }
   ],
   "source": [
    "# Creating the pie chart\n",
    "fig = go.Figure(data=[go.Pie(labels=df_average_rating.index, values=df_average_rating['recipe_count'])])\n",
    "\n",
    "# Adding title\n",
    "fig.update_layout(title='Recipe Count Distribution')\n",
    "fig.update_layout(\n",
    "    height=400,  \n",
    "    width=600   \n",
    ")\n",
    "\n",
    "# Displaying the pie chart\n",
    "fig.show()"
   ]
  },
  {
   "cell_type": "code",
   "execution_count": null,
   "metadata": {},
   "outputs": [],
   "source": []
  },
  {
   "cell_type": "markdown",
   "metadata": {},
   "source": [
    "# Bivariate Analysis"
   ]
  },
  {
   "cell_type": "code",
   "execution_count": 27,
   "metadata": {
    "scrolled": true
   },
   "outputs": [
    {
     "name": "stdout",
     "output_type": "stream",
     "text": [
      "Correlation coefficient between Cooking Time and Average Rating: -0.00399\n"
     ]
    },
    {
     "data": {
      "text/html": [
       "<iframe\n",
       "    scrolling=\"no\"\n",
       "    width=\"100%\"\n",
       "    height=\"545px\"\n",
       "    src=\"iframe_figures/figure_27.html\"\n",
       "    frameborder=\"0\"\n",
       "    allowfullscreen\n",
       "></iframe>\n"
      ]
     },
     "metadata": {},
     "output_type": "display_data"
    }
   ],
   "source": [
    "# Bivariate Analysis\n",
    "correlation = merged_data['minutes'].corr(merged_data['mean_rating'])\n",
    "print(\"Correlation coefficient between Cooking Time and Average Rating: {:.5f}\".format(correlation))\n",
    "\n",
    "fig = px.scatter(merged_data, x='minutes', y='mean_rating', title='Cooking Time vs Average Rating')\n",
    "\n",
    "# Customize the plot layout\n",
    "fig.update_layout(\n",
    "    xaxis_title='Cooking Time (minutes)',\n",
    "    yaxis_title='Average Rating'\n",
    ")\n",
    "# Display the plot\n",
    "fig.show()"
   ]
  },
  {
   "cell_type": "markdown",
   "metadata": {},
   "source": [
    "A negative correlation coefficient shows an inverse relationship between the two variables being analyzed. In this analysis between cooking time and average rating of recipes, a negative correlation coefficient suggests that as the cooking time increases, the average rating tends to decrease, and vice versa. However, it's -0.00399 which indicates the very less impact between this two cooking time and rating correlation interact. "
   ]
  },
  {
   "cell_type": "code",
   "execution_count": 14,
   "metadata": {},
   "outputs": [
    {
     "name": "stdout",
     "output_type": "stream",
     "text": [
      "Correlation coefficient between Cooking Time and Steps to make: 0.01169\n"
     ]
    },
    {
     "data": {
      "text/html": [
       "<iframe\n",
       "    scrolling=\"no\"\n",
       "    width=\"100%\"\n",
       "    height=\"545px\"\n",
       "    src=\"iframe_figures/figure_14.html\"\n",
       "    frameborder=\"0\"\n",
       "    allowfullscreen\n",
       "></iframe>\n"
      ]
     },
     "metadata": {},
     "output_type": "display_data"
    }
   ],
   "source": [
    "# Bivariate Analysis\n",
    "correlation = merged_data['minutes'].corr(merged_data['n_steps'])\n",
    "print(\"Correlation coefficient between Cooking Time and Steps to make: {:.5f}\".format(correlation))\n",
    "\n",
    "fig = px.scatter(merged_data, x='minutes', y='n_steps', title='Cooking Time vs Steps to make')\n",
    "\n",
    "# Customize the plot layout\n",
    "fig.update_layout(\n",
    "    xaxis_title='Cooking Time (minutes)',\n",
    "    yaxis_title='Steps to make'\n",
    ")\n",
    "\n",
    "# Display the plot\n",
    "fig.show()\n",
    "fig.write_html('cooking_time_vs_steps.html')"
   ]
  },
  {
   "cell_type": "markdown",
   "metadata": {},
   "source": [
    "This also indicates a very weak positive correlation. Overall, the analysis suggests a negligible relationship between cooking time and the number of steps to make in the dataset."
   ]
  },
  {
   "cell_type": "code",
   "execution_count": 15,
   "metadata": {
    "scrolled": false
   },
   "outputs": [
    {
     "data": {
      "text/html": [
       "<div>\n",
       "<style scoped>\n",
       "    .dataframe tbody tr th:only-of-type {\n",
       "        vertical-align: middle;\n",
       "    }\n",
       "\n",
       "    .dataframe tbody tr th {\n",
       "        vertical-align: top;\n",
       "    }\n",
       "\n",
       "    .dataframe thead th {\n",
       "        text-align: right;\n",
       "    }\n",
       "</style>\n",
       "<table border=\"1\" class=\"dataframe\">\n",
       "  <thead>\n",
       "    <tr style=\"text-align: right;\">\n",
       "      <th></th>\n",
       "      <th>user_id</th>\n",
       "      <th>recipe_id</th>\n",
       "      <th>date</th>\n",
       "      <th>review</th>\n",
       "      <th>name</th>\n",
       "      <th>minutes</th>\n",
       "      <th>contributor_id</th>\n",
       "      <th>submitted</th>\n",
       "      <th>tags</th>\n",
       "      <th>nutrition</th>\n",
       "      <th>n_steps</th>\n",
       "      <th>steps</th>\n",
       "      <th>description</th>\n",
       "      <th>ingredients</th>\n",
       "      <th>n_ingredients</th>\n",
       "      <th>mean_rating</th>\n",
       "    </tr>\n",
       "  </thead>\n",
       "  <tbody>\n",
       "    <tr>\n",
       "      <th>7783</th>\n",
       "      <td>2002190486</td>\n",
       "      <td>535300</td>\n",
       "      <td>2018-06-18</td>\n",
       "      <td>Thank you! Thank you! Thank you! Thank you!!</td>\n",
       "      <td>firecracker shrimp tacos</td>\n",
       "      <td>12</td>\n",
       "      <td>33186</td>\n",
       "      <td>2018-03-07</td>\n",
       "      <td>['15-minutes-or-less', 'time-to-make', 'course...</td>\n",
       "      <td>[414.4, 24.0, 5.0, 53.0, 36.0, 6.0, 16.0]</td>\n",
       "      <td>12</td>\n",
       "      <td>['shrimp:', 'in a shallow baking dish or bowl ...</td>\n",
       "      <td>this shrimp recipe will light up your taco night.</td>\n",
       "      <td>['large shrimp', 'cornstarch', 'kosher salt', ...</td>\n",
       "      <td>12</td>\n",
       "      <td>5.0</td>\n",
       "    </tr>\n",
       "    <tr>\n",
       "      <th>25709</th>\n",
       "      <td>305531</td>\n",
       "      <td>537459</td>\n",
       "      <td>2018-11-13</td>\n",
       "      <td>Yum. What's not to like with this one. It was ...</td>\n",
       "      <td>bailey s chocotini</td>\n",
       "      <td>10</td>\n",
       "      <td>400708</td>\n",
       "      <td>2018-11-10</td>\n",
       "      <td>['15-minutes-or-less', 'time-to-make', 'course...</td>\n",
       "      <td>[220.7, 15.0, 49.0, 2.0, 3.0, 30.0, 4.0]</td>\n",
       "      <td>5</td>\n",
       "      <td>['to layer: add chocolate liqueur to glass', '...</td>\n",
       "      <td>a recipe that recipe complements the cocoa in ...</td>\n",
       "      <td>['baileys irish cream', 'chocolate liqueur', '...</td>\n",
       "      <td>3</td>\n",
       "      <td>5.0</td>\n",
       "    </tr>\n",
       "    <tr>\n",
       "      <th>123400</th>\n",
       "      <td>2002173957</td>\n",
       "      <td>535282</td>\n",
       "      <td>2018-06-03</td>\n",
       "      <td>It was the Best Apple dip ever! I ended up mak...</td>\n",
       "      <td>after school apple dip</td>\n",
       "      <td>10</td>\n",
       "      <td>2002028772</td>\n",
       "      <td>2018-03-06</td>\n",
       "      <td>['15-minutes-or-less', 'time-to-make', 'course...</td>\n",
       "      <td>[171.3, 14.0, 75.0, 4.0, 3.0, 27.0, 6.0]</td>\n",
       "      <td>2</td>\n",
       "      <td>['place the cream cheese and brown sugar onto ...</td>\n",
       "      <td>quick and tasty after school treat</td>\n",
       "      <td>['cream cheese', 'brown sugar', 'vanilla', 'al...</td>\n",
       "      <td>4</td>\n",
       "      <td>5.0</td>\n",
       "    </tr>\n",
       "    <tr>\n",
       "      <th>154895</th>\n",
       "      <td>2000999552</td>\n",
       "      <td>535267</td>\n",
       "      <td>2018-09-29</td>\n",
       "      <td>Thank you for this wonderful recipe. Its quick...</td>\n",
       "      <td>cheese sauce   quick and easy</td>\n",
       "      <td>15</td>\n",
       "      <td>233780</td>\n",
       "      <td>2018-03-05</td>\n",
       "      <td>['15-minutes-or-less', 'time-to-make', 'course...</td>\n",
       "      <td>[475.9, 54.0, 0.0, 25.0, 29.0, 111.0, 8.0]</td>\n",
       "      <td>5</td>\n",
       "      <td>['melt butter in pan and add the flour with so...</td>\n",
       "      <td>a smooth creamy cheese sauce thats great over ...</td>\n",
       "      <td>['butter', 'milk', 'flour', 'mustard', 'cheese']</td>\n",
       "      <td>5</td>\n",
       "      <td>5.0</td>\n",
       "    </tr>\n",
       "    <tr>\n",
       "      <th>166640</th>\n",
       "      <td>227652</td>\n",
       "      <td>535952</td>\n",
       "      <td>2018-10-31</td>\n",
       "      <td>This was wonderful. That's my main review, but...</td>\n",
       "      <td>fried rice spice</td>\n",
       "      <td>5</td>\n",
       "      <td>102724</td>\n",
       "      <td>2018-06-08</td>\n",
       "      <td>['15-minutes-or-less', 'time-to-make', 'course...</td>\n",
       "      <td>[8.2, 0.0, 1.0, 8.0, 0.0, 0.0, 0.0]</td>\n",
       "      <td>2</td>\n",
       "      <td>['mix all ingredients well', 'store in a seale...</td>\n",
       "      <td>this is a go to for convenience. it's a lot li...</td>\n",
       "      <td>['garlic powder', 'ginger powder', 'sugar', 's...</td>\n",
       "      <td>5</td>\n",
       "      <td>5.0</td>\n",
       "    </tr>\n",
       "    <tr>\n",
       "      <th>199291</th>\n",
       "      <td>2001592857</td>\n",
       "      <td>535104</td>\n",
       "      <td>2018-02-20</td>\n",
       "      <td>Wow, who knew browned butter was for sweets AN...</td>\n",
       "      <td>fruit loop treats</td>\n",
       "      <td>15</td>\n",
       "      <td>2001968497</td>\n",
       "      <td>2018-02-06</td>\n",
       "      <td>['15-minutes-or-less', 'time-to-make', 'course...</td>\n",
       "      <td>[184.9, 9.0, 82.0, 7.0, 2.0, 19.0, 10.0]</td>\n",
       "      <td>20</td>\n",
       "      <td>['lightly butter a large heatproof bowl , add ...</td>\n",
       "      <td>fruity, slightly elevated, ridiculously easy a...</td>\n",
       "      <td>['unsalted butter', 'fruit loops cereal', 'min...</td>\n",
       "      <td>6</td>\n",
       "      <td>5.0</td>\n",
       "    </tr>\n",
       "    <tr>\n",
       "      <th>200206</th>\n",
       "      <td>1925885</td>\n",
       "      <td>536060</td>\n",
       "      <td>2018-07-18</td>\n",
       "      <td>Excellent! I made this on the spur of the mome...</td>\n",
       "      <td>tuna poke</td>\n",
       "      <td>15</td>\n",
       "      <td>1052873</td>\n",
       "      <td>2018-06-24</td>\n",
       "      <td>['15-minutes-or-less', 'time-to-make', 'main-i...</td>\n",
       "      <td>[165.1, 10.0, 10.0, 15.0, 41.0, 7.0, 1.0]</td>\n",
       "      <td>4</td>\n",
       "      <td>['put seaweeds in separate bowls , cover with ...</td>\n",
       "      <td>hawaiian raw tuna salad.</td>\n",
       "      <td>['wakame seaweed', 'hijiki seaweed', 'tuna', '...</td>\n",
       "      <td>11</td>\n",
       "      <td>5.0</td>\n",
       "    </tr>\n",
       "  </tbody>\n",
       "</table>\n",
       "</div>"
      ],
      "text/plain": [
       "           user_id  recipe_id        date  \\\n",
       "7783    2002190486     535300  2018-06-18   \n",
       "25709       305531     537459  2018-11-13   \n",
       "123400  2002173957     535282  2018-06-03   \n",
       "154895  2000999552     535267  2018-09-29   \n",
       "166640      227652     535952  2018-10-31   \n",
       "199291  2001592857     535104  2018-02-20   \n",
       "200206     1925885     536060  2018-07-18   \n",
       "\n",
       "                                                   review  \\\n",
       "7783         Thank you! Thank you! Thank you! Thank you!!   \n",
       "25709   Yum. What's not to like with this one. It was ...   \n",
       "123400  It was the Best Apple dip ever! I ended up mak...   \n",
       "154895  Thank you for this wonderful recipe. Its quick...   \n",
       "166640  This was wonderful. That's my main review, but...   \n",
       "199291  Wow, who knew browned butter was for sweets AN...   \n",
       "200206  Excellent! I made this on the spur of the mome...   \n",
       "\n",
       "                                 name  minutes  contributor_id   submitted  \\\n",
       "7783         firecracker shrimp tacos       12           33186  2018-03-07   \n",
       "25709              bailey s chocotini       10          400708  2018-11-10   \n",
       "123400         after school apple dip       10      2002028772  2018-03-06   \n",
       "154895  cheese sauce   quick and easy       15          233780  2018-03-05   \n",
       "166640               fried rice spice        5          102724  2018-06-08   \n",
       "199291              fruit loop treats       15      2001968497  2018-02-06   \n",
       "200206                      tuna poke       15         1052873  2018-06-24   \n",
       "\n",
       "                                                     tags  \\\n",
       "7783    ['15-minutes-or-less', 'time-to-make', 'course...   \n",
       "25709   ['15-minutes-or-less', 'time-to-make', 'course...   \n",
       "123400  ['15-minutes-or-less', 'time-to-make', 'course...   \n",
       "154895  ['15-minutes-or-less', 'time-to-make', 'course...   \n",
       "166640  ['15-minutes-or-less', 'time-to-make', 'course...   \n",
       "199291  ['15-minutes-or-less', 'time-to-make', 'course...   \n",
       "200206  ['15-minutes-or-less', 'time-to-make', 'main-i...   \n",
       "\n",
       "                                         nutrition  n_steps  \\\n",
       "7783     [414.4, 24.0, 5.0, 53.0, 36.0, 6.0, 16.0]       12   \n",
       "25709     [220.7, 15.0, 49.0, 2.0, 3.0, 30.0, 4.0]        5   \n",
       "123400    [171.3, 14.0, 75.0, 4.0, 3.0, 27.0, 6.0]        2   \n",
       "154895  [475.9, 54.0, 0.0, 25.0, 29.0, 111.0, 8.0]        5   \n",
       "166640         [8.2, 0.0, 1.0, 8.0, 0.0, 0.0, 0.0]        2   \n",
       "199291    [184.9, 9.0, 82.0, 7.0, 2.0, 19.0, 10.0]       20   \n",
       "200206   [165.1, 10.0, 10.0, 15.0, 41.0, 7.0, 1.0]        4   \n",
       "\n",
       "                                                    steps  \\\n",
       "7783    ['shrimp:', 'in a shallow baking dish or bowl ...   \n",
       "25709   ['to layer: add chocolate liqueur to glass', '...   \n",
       "123400  ['place the cream cheese and brown sugar onto ...   \n",
       "154895  ['melt butter in pan and add the flour with so...   \n",
       "166640  ['mix all ingredients well', 'store in a seale...   \n",
       "199291  ['lightly butter a large heatproof bowl , add ...   \n",
       "200206  ['put seaweeds in separate bowls , cover with ...   \n",
       "\n",
       "                                              description  \\\n",
       "7783    this shrimp recipe will light up your taco night.   \n",
       "25709   a recipe that recipe complements the cocoa in ...   \n",
       "123400                 quick and tasty after school treat   \n",
       "154895  a smooth creamy cheese sauce thats great over ...   \n",
       "166640  this is a go to for convenience. it's a lot li...   \n",
       "199291  fruity, slightly elevated, ridiculously easy a...   \n",
       "200206                           hawaiian raw tuna salad.   \n",
       "\n",
       "                                              ingredients  n_ingredients  \\\n",
       "7783    ['large shrimp', 'cornstarch', 'kosher salt', ...             12   \n",
       "25709   ['baileys irish cream', 'chocolate liqueur', '...              3   \n",
       "123400  ['cream cheese', 'brown sugar', 'vanilla', 'al...              4   \n",
       "154895   ['butter', 'milk', 'flour', 'mustard', 'cheese']              5   \n",
       "166640  ['garlic powder', 'ginger powder', 'sugar', 's...              5   \n",
       "199291  ['unsalted butter', 'fruit loops cereal', 'min...              6   \n",
       "200206  ['wakame seaweed', 'hijiki seaweed', 'tuna', '...             11   \n",
       "\n",
       "        mean_rating  \n",
       "7783            5.0  \n",
       "25709           5.0  \n",
       "123400          5.0  \n",
       "154895          5.0  \n",
       "166640          5.0  \n",
       "199291          5.0  \n",
       "200206          5.0  "
      ]
     },
     "execution_count": 15,
     "metadata": {},
     "output_type": "execute_result"
    }
   ],
   "source": [
    "# from 2018 with the meaning rating 5 and minutes less than 20 minutes items name \n",
    "r5_less20min = merged_data[(merged_data['mean_rating'] == 5) & (merged_data['minutes'] < 20)& (merged_data['submitted'] >= '2018-01-01')]\n",
    "sorted_data = r5_less20min.drop_duplicates(subset='name', keep='last')\n",
    "sorted_data"
   ]
  },
  {
   "cell_type": "code",
   "execution_count": 16,
   "metadata": {},
   "outputs": [
    {
     "data": {
      "text/html": [
       "<iframe\n",
       "    scrolling=\"no\"\n",
       "    width=\"820px\"\n",
       "    height=\"470\"\n",
       "    src=\"iframe_figures/figure_16.html\"\n",
       "    frameborder=\"0\"\n",
       "    allowfullscreen\n",
       "></iframe>\n"
      ]
     },
     "metadata": {},
     "output_type": "display_data"
    }
   ],
   "source": [
    "sorted_data_unique = sorted_data.sort_values('minutes',ascending=False)\n",
    "\n",
    "fig = go.Figure(data=[\n",
    "    go.Bar(y=sorted_data_unique['name'], x=sorted_data_unique['minutes'], name='Cooking Time', orientation='h'),\n",
    "    go.Bar(y=sorted_data_unique['name'], x=sorted_data_unique['n_steps'], name='Number of Steps', orientation='h')\n",
    "])\n",
    "\n",
    "# Customize the plot layout\n",
    "fig.update_layout(\n",
    "    title='Top rating 5 orders comparing the cooking time and number of steps to make(2018-)',\n",
    "    yaxis_title='Recipe Name',\n",
    "    xaxis_title='Value',\n",
    "    height=450,  \n",
    "    width=800  \n",
    ")\n",
    "\n",
    "# Display the plot\n",
    "fig.show()\n",
    "fig.write_html('top_orders_bar_plot.html')"
   ]
  },
  {
   "cell_type": "markdown",
   "metadata": {},
   "source": [
    "# Interesting Aggregates"
   ]
  },
  {
   "cell_type": "markdown",
   "metadata": {},
   "source": [
    "This agregates take the mean of the rating for each items and assign to the minutes that take each item to make and list it in an assencding order. "
   ]
  },
  {
   "cell_type": "code",
   "execution_count": 17,
   "metadata": {},
   "outputs": [
    {
     "data": {
      "text/html": [
       "<div>\n",
       "<style scoped>\n",
       "    .dataframe tbody tr th:only-of-type {\n",
       "        vertical-align: middle;\n",
       "    }\n",
       "\n",
       "    .dataframe tbody tr th {\n",
       "        vertical-align: top;\n",
       "    }\n",
       "\n",
       "    .dataframe thead th {\n",
       "        text-align: right;\n",
       "    }\n",
       "</style>\n",
       "<table border=\"1\" class=\"dataframe\">\n",
       "  <thead>\n",
       "    <tr style=\"text-align: right;\">\n",
       "      <th></th>\n",
       "      <th>mean_rating</th>\n",
       "      <th>minutes</th>\n",
       "    </tr>\n",
       "    <tr>\n",
       "      <th>name</th>\n",
       "      <th></th>\n",
       "      <th></th>\n",
       "    </tr>\n",
       "  </thead>\n",
       "  <tbody>\n",
       "    <tr>\n",
       "      <th>vegan parmesan</th>\n",
       "      <td>5.0</td>\n",
       "      <td>0.0</td>\n",
       "    </tr>\n",
       "    <tr>\n",
       "      <th>southern comfort punch</th>\n",
       "      <td>2.5</td>\n",
       "      <td>1.0</td>\n",
       "    </tr>\n",
       "    <tr>\n",
       "      <th>s o s dip  a k a dried beef dip</th>\n",
       "      <td>5.0</td>\n",
       "      <td>1.0</td>\n",
       "    </tr>\n",
       "    <tr>\n",
       "      <th>s o s   beverage</th>\n",
       "      <td>5.0</td>\n",
       "      <td>1.0</td>\n",
       "    </tr>\n",
       "    <tr>\n",
       "      <th>russian root beer</th>\n",
       "      <td>4.0</td>\n",
       "      <td>1.0</td>\n",
       "    </tr>\n",
       "    <tr>\n",
       "      <th>...</th>\n",
       "      <td>...</td>\n",
       "      <td>...</td>\n",
       "    </tr>\n",
       "    <tr>\n",
       "      <th>peach cordial</th>\n",
       "      <td>3.0</td>\n",
       "      <td>86415.0</td>\n",
       "    </tr>\n",
       "    <tr>\n",
       "      <th>homemade vanilla extract</th>\n",
       "      <td>0.0</td>\n",
       "      <td>129600.0</td>\n",
       "    </tr>\n",
       "    <tr>\n",
       "      <th>homemade vanilla</th>\n",
       "      <td>5.0</td>\n",
       "      <td>259205.0</td>\n",
       "    </tr>\n",
       "    <tr>\n",
       "      <th>homemade fruit liquers</th>\n",
       "      <td>4.0</td>\n",
       "      <td>288000.0</td>\n",
       "    </tr>\n",
       "    <tr>\n",
       "      <th>how to preserve a husband</th>\n",
       "      <td>5.0</td>\n",
       "      <td>1051200.0</td>\n",
       "    </tr>\n",
       "  </tbody>\n",
       "</table>\n",
       "<p>83627 rows × 2 columns</p>\n",
       "</div>"
      ],
      "text/plain": [
       "                                 mean_rating    minutes\n",
       "name                                                   \n",
       "vegan parmesan                           5.0        0.0\n",
       "southern comfort punch                   2.5        1.0\n",
       "s o s dip  a k a dried beef dip          5.0        1.0\n",
       "s o s   beverage                         5.0        1.0\n",
       "russian root beer                        4.0        1.0\n",
       "...                                      ...        ...\n",
       "peach cordial                            3.0    86415.0\n",
       "homemade vanilla extract                 0.0   129600.0\n",
       "homemade vanilla                         5.0   259205.0\n",
       "homemade fruit liquers                   4.0   288000.0\n",
       "how to preserve a husband                5.0  1051200.0\n",
       "\n",
       "[83627 rows x 2 columns]"
      ]
     },
     "execution_count": 17,
     "metadata": {},
     "output_type": "execute_result"
    }
   ],
   "source": [
    "grouped_data = merged_data.groupby('name').agg({\n",
    "    'minutes': 'mean',\n",
    "    'mean_rating': 'mean'\n",
    "})\n",
    "\n",
    "# Pivot the grouped data by 'name' and examine aggregate statistics on 'minutes' and 'mean_rating'\n",
    "pivot_table = pd.pivot_table(grouped_data, index='name', values=['minutes', 'mean_rating'])\n",
    "pivot_table_sorted = pivot_table.sort_values('minutes', ascending=True)\n",
    "\n",
    "# Print the pivot table\n",
    "pivot_table_sorted"
   ]
  },
  {
   "cell_type": "markdown",
   "metadata": {},
   "source": [
    "This another analysis put the category into the minutes it takes to make the food and calculate the mean of the rating for each category. "
   ]
  },
  {
   "cell_type": "code",
   "execution_count": 18,
   "metadata": {},
   "outputs": [
    {
     "name": "stdout",
     "output_type": "stream",
     "text": [
      "Average Rating by Cooking Time Category:\n",
      "\n"
     ]
    },
    {
     "data": {
      "text/html": [
       "<div>\n",
       "<style scoped>\n",
       "    .dataframe tbody tr th:only-of-type {\n",
       "        vertical-align: middle;\n",
       "    }\n",
       "\n",
       "    .dataframe tbody tr th {\n",
       "        vertical-align: top;\n",
       "    }\n",
       "\n",
       "    .dataframe thead th {\n",
       "        text-align: right;\n",
       "    }\n",
       "</style>\n",
       "<table border=\"1\" class=\"dataframe\">\n",
       "  <thead>\n",
       "    <tr style=\"text-align: right;\">\n",
       "      <th></th>\n",
       "      <th>mean_rating</th>\n",
       "    </tr>\n",
       "    <tr>\n",
       "      <th>cooking_time_category</th>\n",
       "      <th></th>\n",
       "    </tr>\n",
       "  </thead>\n",
       "  <tbody>\n",
       "    <tr>\n",
       "      <th>0-30</th>\n",
       "      <td>4.448872</td>\n",
       "    </tr>\n",
       "    <tr>\n",
       "      <th>30-60</th>\n",
       "      <td>4.367158</td>\n",
       "    </tr>\n",
       "    <tr>\n",
       "      <th>60-90</th>\n",
       "      <td>4.310285</td>\n",
       "    </tr>\n",
       "    <tr>\n",
       "      <th>90+</th>\n",
       "      <td>4.223956</td>\n",
       "    </tr>\n",
       "  </tbody>\n",
       "</table>\n",
       "</div>"
      ],
      "text/plain": [
       "                       mean_rating\n",
       "cooking_time_category             \n",
       "0-30                      4.448872\n",
       "30-60                     4.367158\n",
       "60-90                     4.310285\n",
       "90+                       4.223956"
      ]
     },
     "execution_count": 18,
     "metadata": {},
     "output_type": "execute_result"
    }
   ],
   "source": [
    "merged_data['cooking_time_category'] = pd.cut(merged_data['minutes'], bins=[0, 30, 60, 90, float('inf')], labels=['0-30', '30-60', '60-90', '90+'])\n",
    "avg_rating_by_category = merged_data.groupby('cooking_time_category')['mean_rating'].mean().reset_index()\n",
    "\n",
    "# Create a pivot table\n",
    "pivot_table = pd.pivot_table(avg_rating_by_category, values='mean_rating', index='cooking_time_category')\n",
    "\n",
    "# Display the pivot table\n",
    "print(\"Average Rating by Cooking Time Category:\\n\")\n",
    "pivot_table"
   ]
  },
  {
   "cell_type": "markdown",
   "metadata": {},
   "source": [
    "# Assessment of Missingness"
   ]
  },
  {
   "cell_type": "code",
   "execution_count": 19,
   "metadata": {},
   "outputs": [],
   "source": [
    "merged_mini = merged_data[['review', 'description','n_steps']]\n",
    "\n",
    "def permutation_test(variable):\n",
    "    testing_df = merged_mini.copy()[[variable, 'description']]\n",
    "    testing_df['description_affected_missing'] = testing_df['description'].isna()\n",
    "    dist = (\n",
    "        testing_df.pivot_table(index=variable, columns='description_affected_missing', aggfunc='size')\n",
    "    )\n",
    "    dist.columns = ['description = False', 'description = True']\n",
    "    dist = dist / dist.sum()\n",
    "    plot = dist.plot(kind='barh', title=str(variable) + ' by Missingness of description counts', barmode='group')\n",
    "    plot.show()\n",
    "    plot.write_html(\"Assessment_of_Missingness.html\")\n",
    "    \n",
    "    n_repetitions = 100\n",
    "    shuffled = testing_df.copy()\n",
    "    tvds = []\n",
    "    for _ in range(n_repetitions):\n",
    "        shuffled[variable] = np.random.permutation(shuffled[variable])\n",
    "        pivoted = (\n",
    "            shuffled\n",
    "            .pivot_table(index=variable, columns='description_affected_missing', aggfunc='size')\n",
    "            .apply(lambda x: x / x.sum())\n",
    "        )\n",
    "        tvd = pivoted.diff(axis=1).iloc[:, -1].abs().sum() / 2\n",
    "        tvds.append(tvd)\n",
    "\n",
    "    observed_tvd = dist.diff(axis=1).iloc[:, -1].abs().sum() / 2\n",
    "    p_value = (np.array(tvds) >= observed_tvd).mean()\n",
    "    return p_value"
   ]
  },
  {
   "cell_type": "code",
   "execution_count": 20,
   "metadata": {},
   "outputs": [
    {
     "data": {
      "text/html": [
       "<iframe\n",
       "    scrolling=\"no\"\n",
       "    width=\"100%\"\n",
       "    height=\"545px\"\n",
       "    src=\"iframe_figures/figure_20.html\"\n",
       "    frameborder=\"0\"\n",
       "    allowfullscreen\n",
       "></iframe>\n"
      ]
     },
     "metadata": {},
     "output_type": "display_data"
    },
    {
     "data": {
      "text/plain": [
       "0.05"
      ]
     },
     "execution_count": 20,
     "metadata": {},
     "output_type": "execute_result"
    }
   ],
   "source": [
    "permutation_test('n_steps')"
   ]
  },
  {
   "cell_type": "code",
   "execution_count": null,
   "metadata": {},
   "outputs": [],
   "source": []
  },
  {
   "cell_type": "markdown",
   "metadata": {},
   "source": [
    "# Hypothesis Testing"
   ]
  },
  {
   "cell_type": "markdown",
   "metadata": {},
   "source": [
    "Analysis Question: What is the relationship between the cooking time and average rating of recipes?\n",
    "\n",
    "Null Hypothesis:The relationship between the cooking time and average rating of recipes is the greater the rating is the less cooking prep time to fullfill customer satisfaction. \n",
    "\n",
    "Alternative Hypothesis: The relationship between the cooking time and average rating of recipes is the greater the rating is the more cooking prep time to prepare the better food. \n"
   ]
  },
  {
   "cell_type": "code",
   "execution_count": 21,
   "metadata": {},
   "outputs": [
    {
     "name": "stdout",
     "output_type": "stream",
     "text": [
      "Correlation coefficient: -0.003993247071403871\n",
      "P-value: 0.053182722882732604\n"
     ]
    }
   ],
   "source": [
    "import pandas as pd\n",
    "import numpy as np\n",
    "from scipy.stats import pearsonr\n",
    "\n",
    "# Step 1: Extract the relevant columns\n",
    "cooking_time = merged_data['minutes']\n",
    "average_rating = merged_data['mean_rating']\n",
    "\n",
    "# Step 2: Calculate the correlation coefficient and p-value\n",
    "correlation, p_value = pearsonr(cooking_time, average_rating)\n",
    "\n",
    "# Step 3: Print the results\n",
    "print(\"Correlation coefficient:\", correlation)\n",
    "print(\"P-value:\", p_value)\n"
   ]
  },
  {
   "cell_type": "markdown",
   "metadata": {},
   "source": [
    "Test Statistic: Mean Proportion of the cooking time and mean proportion of the rating\n",
    "\n",
    "Siginificance level: 0.05\n",
    "\n",
    "p-value: 0.05318\n",
    "\n",
    "Conclusion: Since p-value is >0.05, we fail to reject the null hypothesis. "
   ]
  },
  {
   "cell_type": "markdown",
   "metadata": {},
   "source": [
    "### Tables for Website"
   ]
  },
  {
   "cell_type": "code",
   "execution_count": 22,
   "metadata": {},
   "outputs": [
    {
     "name": "stdout",
     "output_type": "stream",
     "text": [
      "|   n_ingredients |   rating |\n",
      "|----------------:|---------:|\n",
      "|               1 |  4.30208 |\n",
      "|               2 |  4.32877 |\n",
      "|               3 |  4.44194 |\n",
      "|               4 |  4.43527 |\n",
      "|               5 |  4.39844 |\n"
     ]
    }
   ],
   "source": [
    "print(df_average_rating_sorted.head().to_markdown(index=True))"
   ]
  },
  {
   "cell_type": "code",
   "execution_count": 23,
   "metadata": {},
   "outputs": [
    {
     "name": "stdout",
     "output_type": "stream",
     "text": [
      "|   rating |   recipe_count |\n",
      "|---------:|---------------:|\n",
      "|        0 |          15035 |\n",
      "|        1 |           2870 |\n",
      "|        2 |           2368 |\n",
      "|        3 |           7172 |\n",
      "|        4 |          37307 |\n"
     ]
    }
   ],
   "source": [
    "print(df_average_rating.head().to_markdown(index=True))"
   ]
  },
  {
   "cell_type": "code",
   "execution_count": 24,
   "metadata": {},
   "outputs": [
    {
     "name": "stdout",
     "output_type": "stream",
     "text": [
      "| name                            |   mean_rating |   minutes |\n",
      "|:--------------------------------|--------------:|----------:|\n",
      "| vegan parmesan                  |           5   |         0 |\n",
      "| southern comfort punch          |           2.5 |         1 |\n",
      "| s o s dip  a k a dried beef dip |           5   |         1 |\n",
      "| s o s   beverage                |           5   |         1 |\n",
      "| russian root beer               |           4   |         1 |\n"
     ]
    }
   ],
   "source": [
    "print(pivot_table_sorted.head().to_markdown(index=True))"
   ]
  },
  {
   "cell_type": "code",
   "execution_count": 25,
   "metadata": {},
   "outputs": [
    {
     "name": "stdout",
     "output_type": "stream",
     "text": [
      "| name                      |   mean_rating |         minutes |\n",
      "|:--------------------------|--------------:|----------------:|\n",
      "| peach cordial             |             3 |  86415          |\n",
      "| homemade vanilla extract  |             0 | 129600          |\n",
      "| homemade vanilla          |             5 | 259205          |\n",
      "| homemade fruit liquers    |             4 | 288000          |\n",
      "| how to preserve a husband |             5 |      1.0512e+06 |\n"
     ]
    }
   ],
   "source": [
    "print(pivot_table_sorted.tail().to_markdown(index=True))"
   ]
  },
  {
   "cell_type": "code",
   "execution_count": 26,
   "metadata": {},
   "outputs": [
    {
     "name": "stdout",
     "output_type": "stream",
     "text": [
      "| cooking_time_category   |   mean_rating |\n",
      "|:------------------------|--------------:|\n",
      "| 0-30                    |       4.44887 |\n",
      "| 30-60                   |       4.36716 |\n",
      "| 60-90                   |       4.31028 |\n",
      "| 90+                     |       4.22396 |\n"
     ]
    }
   ],
   "source": [
    "print(pivot_table.head().to_markdown(index=True))"
   ]
  },
  {
   "cell_type": "code",
   "execution_count": null,
   "metadata": {},
   "outputs": [],
   "source": []
  }
 ],
 "metadata": {
  "kernelspec": {
   "display_name": "Python 3 (ipykernel)",
   "language": "python",
   "name": "python3"
  },
  "language_info": {
   "codemirror_mode": {
    "name": "ipython",
    "version": 3
   },
   "file_extension": ".py",
   "mimetype": "text/x-python",
   "name": "python",
   "nbconvert_exporter": "python",
   "pygments_lexer": "ipython3",
   "version": "3.8.16"
  }
 },
 "nbformat": 4,
 "nbformat_minor": 2
}
